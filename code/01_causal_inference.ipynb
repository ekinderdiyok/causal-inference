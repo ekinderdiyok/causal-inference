



# Create a causal model using a Directed Acyclic Graph (DAG)
model = CausalModel(
    data=data,
    treatment='plus_member',
    outcome='clv',
    graph="""graph[
        income -> plus_member;
        age -> plus_member;
        spending_score -> plus_member;
        income -> clv;
        age -> clv;
        spending_score -> clv;
        plus_member -> clv;
    ]"""
)

# Visualize the causal DAG
model.view_model()
plt.show()

# Identify the causal effect
identified_estimand = model.identify_effect()
print(identified_estimand)

# Estimate the causal effect using linear regression
estimate = model.estimate_effect(identified_estimand, method_name="backdoor.linear_regression")
print(estimate)

# Display the effect estimate
print("Causal Estimate is ", estimate.value)

# Refute the estimate using a placebo test
refute_placebo = model.refute_estimate(identified_estimand, estimate, method_name="placebo_treatment_refuter")
print(refute_placebo)

# Refute the estimate using a data subset refuter
refute_subset = model.refute_estimate(identified_estimand, estimate, method_name="data_subset_refuter")
print(refute_subset)
